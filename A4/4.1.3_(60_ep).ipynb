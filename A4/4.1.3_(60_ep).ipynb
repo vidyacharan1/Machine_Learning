{
 "cells": [
  {
   "cell_type": "code",
   "execution_count": 1,
   "metadata": {},
   "outputs": [],
   "source": [
    "import os\n",
    "os.environ[\"OMP_NUM_THREADS\"] = \"4\"\n",
    "os.environ[\"MKL_NUM_THREADS\"] = \"4\"\n",
    "\n",
    "import torch\n",
    "import torch.nn as nn\n",
    "import torch.nn.functional as F\n",
    "import torch.optim as optim\n",
    "import torchvision\n",
    "import torchvision.transforms as transforms"
   ]
  },
  {
   "cell_type": "code",
   "execution_count": 2,
   "metadata": {},
   "outputs": [
    {
     "name": "stdout",
     "output_type": "stream",
     "text": [
      "Files already downloaded and verified\n",
      "Files already downloaded and verified\n"
     ]
    }
   ],
   "source": [
    "traindata = torchvision.datasets.CIFAR10(root='./data', train=True, download=True, transform=transforms.ToTensor())\n",
    "trainloader = torch.utils.data.DataLoader(traindata, batch_size=4, shuffle=True, num_workers=2)\n",
    "\n",
    "testdata = torchvision.datasets.CIFAR10(root='./data', train=False, download=True, transform=transforms.ToTensor())\n",
    "testloader = torch.utils.data.DataLoader(testdata, batch_size=4, shuffle=False, num_workers=2)\n",
    "\n",
    "classes = ('plane', 'car', 'bird', 'cat', 'deer', 'dog', 'frog', 'horse', 'ship', 'truck')"
   ]
  },
  {
   "cell_type": "code",
   "execution_count": 3,
   "metadata": {},
   "outputs": [
    {
     "name": "stdout",
     "output_type": "stream",
     "text": [
      "Training Accuracy: 81 %\n",
      "alidation Accuracy: 62 %\n"
     ]
    }
   ],
   "source": [
    "class Net(nn.Module):\n",
    "    def __init__(self):\n",
    "        super(Net, self).__init__()\n",
    "        self.conv1 = nn.Conv2d(3, 32, 3)\n",
    "        self.pool1 = nn.MaxPool2d(2, 2)\n",
    "        self.conv2 = nn.Conv2d(32, 64, 5)\n",
    "        self.pool2 = nn.MaxPool2d(2, 2)\n",
    "        self.conv3 = nn.Conv2d(64, 64, 3)\n",
    "        self.fc1 = nn.Linear(64 * 3 * 3, 64)\n",
    "        self.fc2 = nn.Linear(64, 10)\n",
    "\n",
    "\n",
    "    def forward(self, x):\n",
    "        x = F.relu(self.conv1(x))\n",
    "        x = self.pool1(x)\n",
    "        x = F.relu(self.conv2(x))\n",
    "        x = self.pool2(x)\n",
    "        x = F.relu(self.conv3(x))\n",
    "        x = x.view(-1, 64 * 3 * 3)\n",
    "        x = F.relu(self.fc1(x))\n",
    "        x = self.fc2(x)\n",
    "        return x\n",
    "\n",
    "\n",
    "net = Net()\n",
    "\n",
    "criterion = nn.CrossEntropyLoss()\n",
    "optimizer = optim.Adam(net.parameters(), lr=0.001)\n",
    "\n",
    "for epoch in range(60):\n",
    "    for i, data in enumerate(trainloader, 0):\n",
    "        inputs, labels = data\n",
    "\n",
    "        optimizer.zero_grad()\n",
    "        outputs = net(inputs)\n",
    "        loss = criterion(outputs, labels)\n",
    "        loss.backward()\n",
    "        optimizer.step()\n",
    "\n",
    "# print training accuracy \n",
    "correct = 0\n",
    "total = 0\n",
    "with torch.no_grad():\n",
    "    for data in trainloader:\n",
    "        images, labels = data\n",
    "        outputs = net(images)\n",
    "        _, predicted = torch.max(outputs.data, 1) # returns max value, indices\n",
    "        total += labels.size(0)\n",
    "        correct += (predicted == labels).sum().item()\n",
    "\n",
    "print('Training Accuracy: %d %%' % (100 * correct / total))\n",
    "\n",
    "\n",
    "correct = 0\n",
    "total = 0\n",
    "with torch.no_grad():\n",
    "    for data in testloader:\n",
    "        inputs, labels = data\n",
    "        outputs = net(inputs)\n",
    "        _, predicted = torch.max(outputs.data, 1)\n",
    "        total += labels.size(0)\n",
    "        correct += (predicted == labels).sum().item()\n",
    "\n",
    "print('Validation Accuracy: %d %%' % (100 * correct / total))"
   ]
  },
  {
   "cell_type": "code",
   "execution_count": 4,
   "metadata": {},
   "outputs": [
    {
     "name": "stdout",
     "output_type": "stream",
     "text": [
      "Accuracy of plane : 62 %\n",
      "Accuracy of   car : 72 %\n",
      "Accuracy of  bird : 38 %\n",
      "Accuracy of   cat : 53 %\n",
      "Accuracy of  deer : 51 %\n",
      "Accuracy of   dog : 53 %\n",
      "Accuracy of  frog : 75 %\n",
      "Accuracy of horse : 74 %\n",
      "Accuracy of  ship : 69 %\n",
      "Accuracy of truck : 78 %\n"
     ]
    }
   ],
   "source": [
    "# Class wise accuracy\n",
    "\n",
    "class_correct = list(0. for i in range(10))\n",
    "class_total = list(0. for i in range(10))\n",
    "with torch.no_grad():\n",
    "    for data in testloader:\n",
    "        inputs, labels = data\n",
    "        outputs = net(inputs)\n",
    "        _, predicted = torch.max(outputs, 1)\n",
    "        c = (predicted == labels).squeeze()\n",
    "        for i in range(4):\n",
    "            label = labels[i]\n",
    "            class_correct[label] += c[i].item()\n",
    "            class_total[label] += 1\n",
    "\n",
    "for i in range(10):\n",
    "    print('Accuracy of %5s : %2d %%' % (\n",
    "        classes[i], 100 * class_correct[i] / class_total[i]))"
   ]
  },
  {
   "cell_type": "code",
   "execution_count": 5,
   "metadata": {},
   "outputs": [
    {
     "name": "stdout",
     "output_type": "stream",
     "text": [
      "Epoch: 0\n",
      "Epoch: 1\n",
      "Epoch: 2\n",
      "Epoch: 3\n",
      "Epoch: 4\n",
      "Epoch: 5\n",
      "Epoch: 6\n",
      "Epoch: 7\n",
      "Epoch: 8\n",
      "Epoch: 9\n",
      "Epoch: 10\n",
      "Epoch: 11\n",
      "Epoch: 12\n",
      "Epoch: 13\n",
      "Epoch: 14\n",
      "Epoch: 15\n",
      "Epoch: 16\n",
      "Epoch: 17\n",
      "Epoch: 18\n",
      "Epoch: 19\n",
      "Epoch: 20\n",
      "Epoch: 21\n",
      "Epoch: 22\n",
      "Epoch: 23\n",
      "Epoch: 24\n",
      "Epoch: 25\n",
      "Epoch: 26\n",
      "Epoch: 27\n",
      "Epoch: 28\n",
      "Epoch: 29\n",
      "Epoch: 30\n",
      "Epoch: 31\n",
      "Epoch: 32\n",
      "Epoch: 33\n",
      "Epoch: 34\n",
      "Epoch: 35\n",
      "Epoch: 36\n",
      "Epoch: 37\n",
      "Epoch: 38\n",
      "Epoch: 39\n",
      "Epoch: 40\n",
      "Epoch: 41\n",
      "Epoch: 42\n",
      "Epoch: 43\n",
      "Epoch: 44\n",
      "Epoch: 45\n",
      "Epoch: 46\n",
      "Epoch: 47\n",
      "Epoch: 48\n",
      "Epoch: 49\n",
      "Epoch: 50\n",
      "Epoch: 51\n",
      "Epoch: 52\n",
      "Epoch: 53\n",
      "Epoch: 54\n",
      "Epoch: 55\n",
      "Epoch: 56\n",
      "Epoch: 57\n",
      "Epoch: 58\n",
      "Epoch: 59\n",
      "[0.6020391172247712, 0.6347147942478226, 0.6387701607209488, 0.6312721411850327, 0.6448770367553709, 0.6436899970098625, 0.6615409781096601, 0.6469626064503409, 0.6521156002338938, 0.6528261120710982, 0.6445776338683795, 0.6430830497974737, 0.6437019881538179, 0.6502953828962411, 0.6474931414615128, 0.6475335613341417, 0.6548612174848752, 0.6450579957661658, 0.6516158636833915, 0.6837265998139023, 0.6659106247387838, 0.661472415132809, 0.659879313257518, 0.6781018060915859, 0.6608140955041104, 0.6688477261597433, 0.6715346585981309, 0.6538860478898385, 0.6823836009506012, 0.6661620487539461, 0.6725064698042741, 0.6640159287039269, 0.676293832029278, 0.6616625965179032, 0.6693037627503596, 0.668828760369214, 0.6755751856162079, 0.6734420862731776, 0.7251693579687069, 0.6780408098069296, 0.6897681750955486, 0.6740371754424114, 0.6903872468191724, 0.6719528682935578, 0.6956532432076351, 0.6795282586528766, 0.7054920711044523, 0.69512323709022, 0.695514681922911, 0.6904134667628752, 0.6883535586407091, 0.7272634565060577, 0.717529692253586, 0.7023545573150196, 0.714251407122122, 0.7204153155238092, 0.7195148988306989, 0.7535857472456962, 0.7113048532265199, 0.7195561896792834]\n",
      "[4.248052310126627, 4.363928009249465, 4.327634677097293, 4.249518662042537, 4.292533933338555, 4.263361611030105, 4.341762183342527, 4.259342572772555, 4.259976044669614, 4.24626540353575, 4.205420942016007, 4.1778512479505165, 4.180613399532125, 4.200071405532217, 4.1729292813594965, 4.170906831765915, 4.1858773343125995, 4.129942948809431, 4.174597138499418, 4.301975136016043, 4.215920638383825, 4.185629483612071, 4.202388142948848, 4.244463203029796, 4.154957551845122, 4.18693188667461, 4.211867296960512, 4.098085651453883, 4.236536021739785, 4.187439900350433, 4.18500919636949, 4.137250429256348, 4.272385541512922, 4.126014190762065, 4.167363180199185, 4.186707964009294, 4.197970934043712, 4.156885564578397, 4.470743605679985, 4.194075431313866, 4.26973953935794, 4.2168343337392935, 4.263726328176069, 4.136579613222405, 4.265685780282769, 4.212756352304799, 4.334715660412574, 4.24953226499273, 4.271234894183757, 4.236649487489608, 4.25498349217243, 4.423633044003205, 4.37235650363523, 4.300566692791449, 4.355469156968523, 4.3728300622721985, 4.374931780205688, 4.582474756814377, 4.341165396716731, 4.383130430391854]\n"
     ]
    },
    {
     "data": {
      "text/plain": [
       "<matplotlib.legend.Legend at 0x7f07d2a80970>"
      ]
     },
     "execution_count": 5,
     "metadata": {},
     "output_type": "execute_result"
    },
    {
     "data": {
      "image/png": "[encoded data removed]",
      "text/plain": [
       "<Figure size 432x288 with 1 Axes>"
      ]
     },
     "metadata": {
      "needs_background": "light"
     },
     "output_type": "display_data"
    }
   ],
   "source": [
    "# Calculate training and validation loss vs epoch\n",
    "train_loss = []\n",
    "valid_loss = []\n",
    "for epoch in range(60):\n",
    "    running_loss = 0.0\n",
    "    for i, data in enumerate(trainloader, 0):\n",
    "        inputs, labels = data\n",
    "        optimizer.zero_grad()\n",
    "        outputs = net(inputs)\n",
    "        loss = criterion(outputs, labels)\n",
    "        loss.backward()\n",
    "        optimizer.step()\n",
    "        running_loss += loss.item()\n",
    "    train_loss.append(running_loss / len(trainloader))\n",
    "\n",
    "    for i, data in enumerate(testloader, 0):\n",
    "        inputs, labels = data\n",
    "        outputs = net(inputs)\n",
    "        optimizer.zero_grad()\n",
    "        loss = criterion(outputs, labels)\n",
    "        loss.backward()\n",
    "        optimizer.step()\n",
    "        running_loss += loss.item()\n",
    "    valid_loss.append(running_loss / len(testloader))\n",
    "    print('Epoch:', epoch)\n",
    "    \n",
    "\n",
    "print(train_loss)\n",
    "print(valid_loss)\n",
    "\n",
    "# Plot training and validation loss vs epoch\n",
    "import matplotlib.pyplot as plt\n",
    "plt.plot(train_loss, label='Training loss')\n",
    "plt.plot(valid_loss, label='Validation loss')\n",
    "plt.legend(frameon=False)"
   ]
  },
  {
   "cell_type": "code",
   "execution_count": null,
   "metadata": {},
   "outputs": [],
   "source": []
  }
 ],
 "metadata": {
  "kernelspec": {
   "display_name": "Python 3 (ipykernel)",
   "language": "python",
   "name": "python3"
  },
  "language_info": {
   "codemirror_mode": {
    "name": "ipython",
    "version": 3
   },
   "file_extension": ".py",
   "mimetype": "text/x-python",
   "name": "python",
   "nbconvert_exporter": "python",
   "pygments_lexer": "ipython3",
   "version": "3.10.7"
  }
 },
 "nbformat": 4,
 "nbformat_minor": 2
}
