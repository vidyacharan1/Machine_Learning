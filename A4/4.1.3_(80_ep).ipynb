{
 "cells": [
  {
   "cell_type": "code",
   "execution_count": 1,
   "metadata": {},
   "outputs": [],
   "source": [
    "import os\n",
    "os.environ[\"OMP_NUM_THREADS\"] = \"4\"\n",
    "os.environ[\"MKL_NUM_THREADS\"] = \"4\"\n",
    "\n",
    "import torch\n",
    "import torch.nn as nn\n",
    "import torch.nn.functional as F\n",
    "import torch.optim as optim\n",
    "import torchvision\n",
    "import torchvision.transforms as transforms"
   ]
  },
  {
   "cell_type": "code",
   "execution_count": 2,
   "metadata": {},
   "outputs": [
    {
     "name": "stdout",
     "output_type": "stream",
     "text": [
      "Files already downloaded and verified\n",
      "Files already downloaded and verified\n"
     ]
    }
   ],
   "source": [
    "traindata = torchvision.datasets.CIFAR10(root='./data', train=True, download=True, transform=transforms.ToTensor())\n",
    "trainloader = torch.utils.data.DataLoader(traindata, batch_size=4, shuffle=True, num_workers=2)\n",
    "\n",
    "testdata = torchvision.datasets.CIFAR10(root='./data', train=False, download=True, transform=transforms.ToTensor())\n",
    "testloader = torch.utils.data.DataLoader(testdata, batch_size=4, shuffle=False, num_workers=2)\n",
    "\n",
    "classes = ('plane', 'car', 'bird', 'cat', 'deer', 'dog', 'frog', 'horse', 'ship', 'truck')\n"
   ]
  },
  {
   "cell_type": "code",
   "execution_count": 3,
   "metadata": {},
   "outputs": [
    {
     "name": "stdout",
     "output_type": "stream",
     "text": [
      "Training Accuracy: 80 %\n",
      "alidation Accuracy: 60 %\n"
     ]
    }
   ],
   "source": [
    "class Net(nn.Module):\n",
    "    def __init__(self):\n",
    "        super(Net, self).__init__()\n",
    "        self.conv1 = nn.Conv2d(3, 32, 3)\n",
    "        self.pool1 = nn.MaxPool2d(2, 2)\n",
    "        self.conv2 = nn.Conv2d(32, 64, 5)\n",
    "        self.pool2 = nn.MaxPool2d(2, 2)\n",
    "        self.conv3 = nn.Conv2d(64, 64, 3)\n",
    "        self.fc1 = nn.Linear(64 * 3 * 3, 64)\n",
    "        self.fc2 = nn.Linear(64, 10)\n",
    "\n",
    "\n",
    "    def forward(self, x):\n",
    "        x = F.relu(self.conv1(x))\n",
    "        x = self.pool1(x)\n",
    "        x = F.relu(self.conv2(x))\n",
    "        x = self.pool2(x)\n",
    "        x = F.relu(self.conv3(x))\n",
    "        x = x.view(-1, 64 * 3 * 3)\n",
    "        x = F.relu(self.fc1(x))\n",
    "        x = self.fc2(x)\n",
    "        return x\n",
    "\n",
    "\n",
    "net = Net()\n",
    "\n",
    "criterion = nn.CrossEntropyLoss()\n",
    "optimizer = optim.Adam(net.parameters(), lr=0.001)\n",
    "\n",
    "for epoch in range(80):\n",
    "    for i, data in enumerate(trainloader, 0):\n",
    "        inputs, labels = data\n",
    "\n",
    "        optimizer.zero_grad()\n",
    "        outputs = net(inputs)\n",
    "        loss = criterion(outputs, labels)\n",
    "        loss.backward()\n",
    "        optimizer.step()\n",
    "\n",
    "# print training accuracy \n",
    "correct = 0\n",
    "total = 0\n",
    "with torch.no_grad():\n",
    "    for data in trainloader:\n",
    "        images, labels = data\n",
    "        outputs = net(images)\n",
    "        _, predicted = torch.max(outputs.data, 1) # returns max value, indices\n",
    "        total += labels.size(0)\n",
    "        correct += (predicted == labels).sum().item()\n",
    "\n",
    "print('Training Accuracy: %d %%' % (100 * correct / total))\n",
    "\n",
    "\n",
    "correct = 0\n",
    "total = 0\n",
    "with torch.no_grad():\n",
    "    for data in testloader:\n",
    "        inputs, labels = data\n",
    "        outputs = net(inputs)\n",
    "        _, predicted = torch.max(outputs.data, 1)\n",
    "        total += labels.size(0)\n",
    "        correct += (predicted == labels).sum().item()\n",
    "\n",
    "print('Validation Accuracy: %d %%' % (100 * correct / total))"
   ]
  },
  {
   "cell_type": "code",
   "execution_count": 4,
   "metadata": {},
   "outputs": [
    {
     "name": "stdout",
     "output_type": "stream",
     "text": [
      "Accuracy of plane : 65 %\n",
      "Accuracy of   car : 81 %\n",
      "Accuracy of  bird : 45 %\n",
      "Accuracy of   cat : 43 %\n",
      "Accuracy of  deer : 47 %\n",
      "Accuracy of   dog : 49 %\n",
      "Accuracy of  frog : 74 %\n",
      "Accuracy of horse : 60 %\n",
      "Accuracy of  ship : 72 %\n",
      "Accuracy of truck : 64 %\n"
     ]
    }
   ],
   "source": [
    "# Class wise accuracy\n",
    "\n",
    "class_correct = list(0. for i in range(10))\n",
    "class_total = list(0. for i in range(10))\n",
    "with torch.no_grad():\n",
    "    for data in testloader:\n",
    "        inputs, labels = data\n",
    "        outputs = net(inputs)\n",
    "        _, predicted = torch.max(outputs, 1)\n",
    "        c = (predicted == labels).squeeze()\n",
    "        for i in range(4):\n",
    "            label = labels[i]\n",
    "            class_correct[label] += c[i].item()\n",
    "            class_total[label] += 1\n",
    "\n",
    "for i in range(10):\n",
    "    print('Accuracy of %5s : %2d %%' % (\n",
    "        classes[i], 100 * class_correct[i] / class_total[i]))"
   ]
  },
  {
   "cell_type": "code",
   "execution_count": 5,
   "metadata": {},
   "outputs": [
    {
     "name": "stdout",
     "output_type": "stream",
     "text": [
      "Epoch: 0\n",
      "Epoch: 1\n",
      "Epoch: 2\n",
      "Epoch: 3\n",
      "Epoch: 4\n",
      "Epoch: 5\n",
      "Epoch: 6\n",
      "Epoch: 7\n",
      "Epoch: 8\n",
      "Epoch: 9\n",
      "Epoch: 10\n",
      "Epoch: 11\n",
      "Epoch: 12\n",
      "Epoch: 13\n",
      "Epoch: 14\n",
      "Epoch: 15\n",
      "Epoch: 16\n",
      "Epoch: 17\n",
      "Epoch: 18\n",
      "Epoch: 19\n",
      "Epoch: 20\n",
      "Epoch: 21\n",
      "Epoch: 22\n",
      "Epoch: 23\n",
      "Epoch: 24\n",
      "Epoch: 25\n",
      "Epoch: 26\n",
      "Epoch: 27\n",
      "Epoch: 28\n",
      "Epoch: 29\n",
      "Epoch: 30\n",
      "Epoch: 31\n",
      "Epoch: 32\n",
      "Epoch: 33\n",
      "Epoch: 34\n",
      "Epoch: 35\n",
      "Epoch: 36\n",
      "Epoch: 37\n",
      "Epoch: 38\n",
      "Epoch: 39\n",
      "Epoch: 40\n",
      "Epoch: 41\n",
      "Epoch: 42\n",
      "Epoch: 43\n",
      "Epoch: 44\n",
      "Epoch: 45\n",
      "Epoch: 46\n",
      "Epoch: 47\n",
      "Epoch: 48\n",
      "Epoch: 49\n",
      "Epoch: 50\n",
      "Epoch: 51\n",
      "Epoch: 52\n",
      "Epoch: 53\n",
      "Epoch: 54\n",
      "Epoch: 55\n",
      "Epoch: 56\n",
      "Epoch: 57\n",
      "Epoch: 58\n",
      "Epoch: 59\n",
      "Epoch: 60\n",
      "Epoch: 61\n",
      "Epoch: 62\n",
      "Epoch: 63\n",
      "Epoch: 64\n",
      "Epoch: 65\n",
      "Epoch: 66\n",
      "Epoch: 67\n",
      "Epoch: 68\n",
      "Epoch: 69\n",
      "Epoch: 70\n",
      "Epoch: 71\n",
      "Epoch: 72\n",
      "Epoch: 73\n",
      "Epoch: 74\n",
      "Epoch: 75\n",
      "Epoch: 76\n",
      "Epoch: 77\n",
      "Epoch: 78\n",
      "Epoch: 79\n",
      "[0.6392973454683872, 0.674275501183825, 0.6830123103755212, 0.690333434885264, 0.6882898999946442, 0.6837326161651384, 0.7025842844939657, 0.7006866943475833, 0.7090040561554353, 0.7123248139546274, 0.7386787539881648, 0.7141476343874554, 0.727563685601731, 0.7149772633928861, 0.7256625362926263, 0.721263223926434, 0.7523525189987842, 0.7400157465335563, 0.7513982098316222, 0.730041798542745, 0.747405654679352, 0.73159803521342, 0.7321014592324445, 0.7254734108237267, 0.7451483904716579, 0.7365615619616569, 0.7344576434871931, 0.72828312489638, 0.7574575545341219, 0.7151718963705597, 0.7243858194146994, 0.7157428293827166, 0.7598299764765264, 0.7375229417611548, 0.7435785885022371, 0.7581952419368192, 0.7595337524303435, 0.7463697089421191, 0.7427418730328609, 0.7529492907992195, 0.753529676271246, 0.7553273872806795, 0.74737812207671, 0.7717637167196785, 0.7426891819817698, 0.7579985974781116, 0.7424660319058929, 0.7317737185182586, 0.7394800866953284, 0.7403713990409693, 0.7667285530758571, 0.7363004540198167, 0.7231510156793508, 0.7627892458720582, 0.749974245331848, 0.7157260229127681, 0.7646622503920333, 0.7246435241310442, 0.7271019150283563, 0.721147246632305, 0.7090972712707595, 0.7471181327361097, 0.7048460806220469, 0.707200099549582, 0.7372623363670813, 0.7216116012620016, 0.6966024719326306, 0.7256354635241165, 0.7388309294258032, 0.7248181919583792, 0.7128065815707255, 0.7166701041124671, 0.735745465589464, 0.7171658600432532, 0.7569718062789808, 0.723192155781607, 0.750547668718392, 0.7267368199545855, 0.7113847931072744, 0.7943157985608651]\n",
      "[4.498864675130156, 4.615026314053472, 4.6136796783938365, 4.611599547950405, 4.577308231052806, 4.574306151615677, 4.609008155414954, 4.589437344003211, 4.636807858722427, 4.624037644065025, 4.737942326152554, 4.57312046887043, 4.638308992731828, 4.587924386491922, 4.61210805097048, 4.591627749008922, 4.718138236818682, 4.681379138869407, 4.712630911155858, 4.633618920003585, 4.696005235923473, 4.589960901826245, 4.58776234843096, 4.56971050965486, 4.636745710358197, 4.631691489678582, 4.571561439335673, 4.553281661300327, 4.692339714618011, 4.482629220294015, 4.556431741997122, 4.473631212268468, 4.6673230016770715, 4.587248700574624, 4.568144599335491, 4.65251680749931, 4.665833170005673, 4.574593969223831, 4.575357805365718, 4.599752524704034, 4.6009447527650424, 4.614252035240141, 4.583739920355567, 4.705763887765473, 4.5430965623825355, 4.6186068746579085, 4.526829394147934, 4.50827771653905, 4.554371142656143, 4.539497922516712, 4.674870162347108, 4.605591348423209, 4.437148720872815, 4.581585364622013, 4.5794153164122235, 4.394898244348569, 4.616264024763105, 4.475595225300723, 4.4484720814836285, 4.3476139741297235, 4.315083109416367, 4.591641546169323, 4.342070419687302, 4.340242232195222, 4.456586372162919, 4.390954707917072, 4.261673473399754, 4.3928051268018695, 4.454100809050199, 4.557791008191775, 4.352388830978458, 4.3392222591336065, 4.615381501500552, 4.471599463824626, 4.665563527176012, 4.381018065191244, 4.522067478672377, 4.3718591710993655, 4.347516050999137, 4.796981143322343]\n"
     ]
    },
    {
     "data": {
      "text/plain": [
       "<matplotlib.legend.Legend at 0x7f4c65c6e620>"
      ]
     },
     "execution_count": 5,
     "metadata": {},
     "output_type": "execute_result"
    },
    {
     "data": {
      "image/png": "[encoded data removed]",
      "text/plain": [
       "<Figure size 432x288 with 1 Axes>"
      ]
     },
     "metadata": {
      "needs_background": "light"
     },
     "output_type": "display_data"
    }
   ],
   "source": [
    "# Calculate training and validation loss vs epoch\n",
    "train_loss = []\n",
    "valid_loss = []\n",
    "for epoch in range(80):\n",
    "    running_loss = 0.0\n",
    "    for i, data in enumerate(trainloader, 0):\n",
    "        inputs, labels = data\n",
    "        optimizer.zero_grad()\n",
    "        outputs = net(inputs)\n",
    "        loss = criterion(outputs, labels)\n",
    "        loss.backward()\n",
    "        optimizer.step()\n",
    "        running_loss += loss.item()\n",
    "    train_loss.append(running_loss / len(trainloader))\n",
    "\n",
    "    for i, data in enumerate(testloader, 0):\n",
    "        inputs, labels = data\n",
    "        outputs = net(inputs)\n",
    "        optimizer.zero_grad()\n",
    "        loss = criterion(outputs, labels)\n",
    "        loss.backward()\n",
    "        optimizer.step()\n",
    "        running_loss += loss.item()\n",
    "    valid_loss.append(running_loss / len(testloader))\n",
    "    print('Epoch:', epoch)\n",
    "    \n",
    "\n",
    "print(train_loss)\n",
    "print(valid_loss)\n",
    "\n",
    "# Plot training and validation loss vs epoch\n",
    "import matplotlib.pyplot as plt\n",
    "plt.plot(train_loss, label='Training loss')\n",
    "plt.plot(valid_loss, label='Validation loss')\n",
    "plt.legend(frameon=False)"
   ]
  },
  {
   "cell_type": "code",
   "execution_count": null,
   "metadata": {},
   "outputs": [],
   "source": []
  }
 ],
 "metadata": {
  "kernelspec": {
   "display_name": "Python 3 (ipykernel)",
   "language": "python",
   "name": "python3"
  },
  "language_info": {
   "codemirror_mode": {
    "name": "ipython",
    "version": 3
   },
   "file_extension": ".py",
   "mimetype": "text/x-python",
   "name": "python",
   "nbconvert_exporter": "python",
   "pygments_lexer": "ipython3",
   "version": "3.10.7"
  }
 },
 "nbformat": 4,
 "nbformat_minor": 2
}
